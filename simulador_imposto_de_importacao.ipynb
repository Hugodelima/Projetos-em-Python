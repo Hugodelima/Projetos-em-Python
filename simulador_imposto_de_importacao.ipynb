{
  "nbformat": 4,
  "nbformat_minor": 0,
  "metadata": {
    "colab": {
      "provenance": []
    },
    "kernelspec": {
      "name": "python3",
      "display_name": "Python 3"
    },
    "language_info": {
      "name": "python"
    }
  },
  "cells": [
    {
      "cell_type": "code",
      "execution_count": null,
      "metadata": {
        "colab": {
          "base_uri": "https://localhost:8080/"
        },
        "id": "B3K0760Hq_sW",
        "outputId": "c87414a9-d1bd-4c90-c12d-f6918d968475"
      },
      "outputs": [
        {
          "output_type": "stream",
          "name": "stdout",
          "text": [
            "informe o valor do produto em Dólar USD 200\n",
            "informe o valor do frete em Dólar USD 25\n",
            "-----------------------------------------------------------------------------------------------------------------------------------------------------------------------\n",
            "Total do produto em BRL = 1054.88\n",
            "Total do Frete em BRL = 131.86\n",
            "-----------------------------------------------------------------------------------------------------------------------------------------------------------------------\n",
            "Total de IOF = 75.71\n",
            "Total do II = 119.03\n",
            "Total do IPI = 225.2\n",
            "Total do PIS = 49.66\n",
            "Total do COFINS = 100.61\n",
            "-----------------------------------------------------------------------------------------------------------------------------------------------------------------------\n",
            "Total de Imposto A Pagar = 570.21\n",
            "Total a Ser Pago = 1756.95\n"
          ]
        }
      ],
      "source": [
        "import random                                            #gerar numeros aleatorios\n",
        "\n",
        "\n",
        "#input do usuario\n",
        "valor_em_dolar_produto=float(input('informe o valor do produto em Dólar USD ' ))\n",
        "valor_do_frete=float(input('informe o valor do frete em Dólar USD '))\n",
        "print('-----------------------------------------------------------------------------------------------------------------------------------------------------------------------')\n",
        "\n",
        "#caso o usuario faca algo de errado\n",
        "if (valor_em_dolar_produto<=0):\n",
        "  print(valor_em_dolar_produto,'Valor em Dolar do Produto inferior a 0 Dólares')\n",
        "\n",
        "else:\n",
        "  #Dolar atual\n",
        "  valor_do_real_para_dolar = 5.2744       #webscrap                 #atualmente 5,2744 hoje\n",
        "  \n",
        "\n",
        "  #iof produto\n",
        "  IOF_produto= ((valor_em_dolar_produto*valor_do_real_para_dolar) * 0.0638)\n",
        "  #total pago pelo produto\n",
        "  total_produto_BRL=(valor_em_dolar_produto*valor_do_real_para_dolar)\n",
        "\n",
        "  #iof frete\n",
        "  IOF_frete=((valor_do_frete*valor_do_real_para_dolar)*0.0638)\n",
        "  #total pago pelo frete\n",
        "  total_do_frete_BRL=(valor_do_frete*valor_do_real_para_dolar)\n",
        "\n",
        "  #total de IOF pago\n",
        "  IOF_total=(IOF_produto+IOF_frete)\n",
        "\n",
        "\n",
        "\n",
        "  \n",
        "\n",
        "\n",
        "  #numeros randomicos\n",
        "  r1=(random.uniform(8,18))/100                           #esse é II\n",
        "\n",
        "  r2=(random.uniform(12,25))/100                          #esse é IPI\n",
        "\n",
        "  r3=(random.uniform(7,2.10))/100                         #esse é PIS\n",
        "\n",
        "  r4=(random.uniform(9,9.65))/100                         #esse é Cofins\n",
        "\n",
        "\n",
        "  #Impostos\n",
        "  #II = TEC(imposto do ncm %) x Valor Aduaneiro\n",
        "  #IPI = TIPI(imposto do ncm %) x (Valor Aduaneiro + II)\n",
        "  #PIS = Alíquota PIS(imposto do ncm%) x Valor Aduaneiro\n",
        "  #Cofins = Alíquota Cofins(imposto do ncm %) x Valor Aduaneiro\n",
        "\n",
        "  II =(r1 * total_produto_BRL)                          #18%(MEDIA)          \n",
        "\n",
        "  IPI = r2 * (total_produto_BRL + II)                   #25%(media)    \n",
        "\n",
        "  PIS = (r3 * total_produto_BRL)                        #2.10%(media)     \n",
        "\n",
        "  Cofins = (r4 * total_produto_BRL)                     #9.65(%media) \n",
        "\n",
        "\n",
        "  #Printar o total do produto mais o frete em BRL\n",
        "  print(f\"Total do produto em BRL = {round(total_produto_BRL, 2)}\")\n",
        "  print(f\"Total do Frete em BRL = {round(total_do_frete_BRL, 2)}\")\n",
        "  print('-----------------------------------------------------------------------------------------------------------------------------------------------------------------------')\n",
        "\n",
        "\n",
        "  #Printar os impostos\n",
        "  print(f\"Total de IOF = {round(IOF_total, 2)}\")\n",
        "  print(f\"Total do II = {round(II, 2)}\")\n",
        "  print(f\"Total do IPI = {round(IPI, 2)}\")\n",
        "  print(f\"Total do PIS = {round(PIS, 2)}\")\n",
        "  print(f\"Total do COFINS = {round(Cofins, 2)}\")\n",
        "  print('-----------------------------------------------------------------------------------------------------------------------------------------------------------------------')\n",
        "\n",
        "\n",
        "  #Calcular todos os impostos\n",
        "  imposto=(II + IPI + PIS + Cofins+IOF_total)\n",
        "\n",
        "\n",
        "  #print final, sobre o total\n",
        "  print(f\"Total de Imposto A Pagar = {round(imposto, 2)}\")\n",
        "  print(f\"Total a Ser Pago = {round(imposto + total_produto_BRL + total_do_frete_BRL, 2)}\")\n",
        "\n",
        "\n",
        "\n",
        "  #########################################################################################################################################################################################################################################\n",
        "  #ESTUDAR ESSA PARTE  --------------------------------------------------------------------------------------------------------------------------------------------------------------------------------------------------------------------------------\n",
        "  #https://www.youtube.com/watch?v=xilRixUThqc>abrir cmd como administrador e digitar \"pip install pandas\",'pip3 install pandas', 'python -m pip install pandas'\n",
        "  #A.4 Pandas Básico: Cálculo de importações por NCM para um determinado ano com Python\n",
        "  #transformar arquivo python em pdf\n",
        "  #https://www.gov.br/produtividade-e-comercio-exterior/pt-br/assuntos/comercio-exterior/estatisticas/base-de-dados-bruta\n",
        "\n",
        "\n",
        "\n",
        "  #Pesquisar lista em python 5 produtos\n",
        "  #usar DEF\n",
        "  #calcular IOF que ta errado\n",
        "  #ssl pra provedor\n",
        "\n",
        "  #frame work anvilk, modulo pysimplegui, pyscript\n",
        "\n",
        "\n",
        "\n",
        "\n",
        "\n",
        "\n",
        "\n",
        "\n",
        "\n",
        "\n"
      ]
    },
    {
      "cell_type": "code",
      "source": [],
      "metadata": {
        "colab": {
          "base_uri": "https://localhost:8080/"
        },
        "id": "mn2iziyuy3vK",
        "outputId": "c54cff5f-95a7-4621-8d98-537258820c3f"
      },
      "execution_count": null,
      "outputs": [
        {
          "output_type": "stream",
          "name": "stdout",
          "text": [
            "informe o valor do produto em Dólar USD 200\n",
            "informe o valor do frete em Dólar USD 200\n",
            "-----------------------------------------------------------------------------------------------------------------------------------------------------------------------\n",
            "Total do produto em BRL = 1054.88\n",
            "Total do Frete em BRL = 1054.88\n",
            "-----------------------------------------------------------------------------------------------------------------------------------------------------------------------\n",
            "Total de IOF pago= 134.6\n",
            "Total do II = 123.34\n",
            "Total do IPI = 248.88\n",
            "Total do PIS = 53.97\n",
            "Total do COFINS = 100.18\n",
            "-----------------------------------------------------------------------------------------------------------------------------------------------------------------------\n",
            "Total de Imposto A Pagar = 660.97\n",
            "Total a Ser Pago = 2770.73\n"
          ]
        }
      ]
    }
  ]
}